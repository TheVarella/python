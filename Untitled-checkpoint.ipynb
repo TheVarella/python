{
 "cells": [
  {
   "cell_type": "code",
   "execution_count": 4,
   "id": "600b6520",
   "metadata": {
    "scrolled": true
   },
   "outputs": [
    {
     "name": "stdout",
     "output_type": "stream",
     "text": [
      "Requirement already satisfied: pyautogui in c:\\users\\aluno.joseense\\anaconda3\\lib\\site-packages (0.9.53)\n",
      "Requirement already satisfied: pygetwindow>=0.0.5 in c:\\users\\aluno.joseense\\anaconda3\\lib\\site-packages (from pyautogui) (0.0.9)\n",
      "Requirement already satisfied: pyscreeze>=0.1.21 in c:\\users\\aluno.joseense\\anaconda3\\lib\\site-packages (from pyautogui) (0.1.28)\n",
      "Requirement already satisfied: pymsgbox in c:\\users\\aluno.joseense\\anaconda3\\lib\\site-packages (from pyautogui) (1.0.9)\n",
      "Requirement already satisfied: PyTweening>=1.0.1 in c:\\users\\aluno.joseense\\anaconda3\\lib\\site-packages (from pyautogui) (1.0.4)\n",
      "Requirement already satisfied: mouseinfo in c:\\users\\aluno.joseense\\anaconda3\\lib\\site-packages (from pyautogui) (0.1.3)\n",
      "Requirement already satisfied: pyrect in c:\\users\\aluno.joseense\\anaconda3\\lib\\site-packages (from pygetwindow>=0.0.5->pyautogui) (0.2.0)\n",
      "Requirement already satisfied: pyperclip in c:\\users\\aluno.joseense\\anaconda3\\lib\\site-packages (from mouseinfo->pyautogui) (1.8.2)\n",
      "Requirement already satisfied: pyperclip in c:\\users\\aluno.joseense\\anaconda3\\lib\\site-packages (1.8.2)\n"
     ]
    }
   ],
   "source": [
    "!pip install pyautogui\n",
    "!pip install pyperclip"
   ]
  },
  {
   "cell_type": "code",
   "execution_count": 8,
   "id": "70461b09",
   "metadata": {},
   "outputs": [],
   "source": [
    "import pyautogui\n",
    "import pyperclip\n",
    "import time\n",
    "\n",
    "pyautogui. PAUSE = 1\n",
    "\n",
    "#entrar numa nova guia\n",
    "pyautogui.hotkey(\"ctrl\",\"t\")\n",
    "\n",
    "time.sleep(2)\n",
    "#escrever o link do youtube\n",
    "pyautogui.write(\"https://www.youtube.com/\")\n",
    "\n",
    "time.sleep(2)\n",
    "#dar go\n",
    "pyautogui.press(\"enter\")\n",
    "#escrever o canal desimpedidos\n",
    "\n",
    "#clicar no video"
   ]
  },
  {
   "cell_type": "code",
   "execution_count": 5,
   "id": "cab04e0e",
   "metadata": {},
   "outputs": [],
   "source": []
  },
  {
   "cell_type": "code",
   "execution_count": null,
   "id": "777b0f8a",
   "metadata": {},
   "outputs": [],
   "source": [
    "pyautogui"
   ]
  }
 ],
 "metadata": {
  "interpreter": {
   "hash": "27ddb6de95f9d7e7b215d078de8ab0d9639c1b79e9da36bc0ec0fa7afc18ee92"
  },
  "kernelspec": {
   "display_name": "Python 3.9.7 ('base')",
   "language": "python",
   "name": "python3"
  },
  "language_info": {
   "codemirror_mode": {
    "name": "ipython",
    "version": 3
   },
   "file_extension": ".py",
   "mimetype": "text/x-python",
   "name": "python",
   "nbconvert_exporter": "python",
   "pygments_lexer": "ipython3",
   "version": "3.9.7"
  }
 },
 "nbformat": 4,
 "nbformat_minor": 5
}
