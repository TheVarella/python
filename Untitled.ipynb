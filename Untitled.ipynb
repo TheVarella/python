{
 "cells": [
  {
   "cell_type": "code",
   "execution_count": 4,
   "id": "d63721f1",
   "metadata": {
    "scrolled": true
   },
   "outputs": [
    {
     "name": "stdout",
     "output_type": "stream",
     "text": [
      "Requirement already satisfied: pyautogui in c:\\users\\aluno.joseense\\anaconda3\\lib\\site-packages (0.9.53)\n",
      "Requirement already satisfied: pygetwindow>=0.0.5 in c:\\users\\aluno.joseense\\anaconda3\\lib\\site-packages (from pyautogui) (0.0.9)\n",
      "Requirement already satisfied: pyscreeze>=0.1.21 in c:\\users\\aluno.joseense\\anaconda3\\lib\\site-packages (from pyautogui) (0.1.28)\n",
      "Requirement already satisfied: pymsgbox in c:\\users\\aluno.joseense\\anaconda3\\lib\\site-packages (from pyautogui) (1.0.9)\n",
      "Requirement already satisfied: PyTweening>=1.0.1 in c:\\users\\aluno.joseense\\anaconda3\\lib\\site-packages (from pyautogui) (1.0.4)\n",
      "Requirement already satisfied: mouseinfo in c:\\users\\aluno.joseense\\anaconda3\\lib\\site-packages (from pyautogui) (0.1.3)\n",
      "Requirement already satisfied: pyrect in c:\\users\\aluno.joseense\\anaconda3\\lib\\site-packages (from pygetwindow>=0.0.5->pyautogui) (0.2.0)\n",
      "Requirement already satisfied: pyperclip in c:\\users\\aluno.joseense\\anaconda3\\lib\\site-packages (from mouseinfo->pyautogui) (1.8.2)\n",
      "Requirement already satisfied: pyperclip in c:\\users\\aluno.joseense\\anaconda3\\lib\\site-packages (1.8.2)\n"
     ]
    }
   ],
   "source": [
    "!pip install pyautogui\n",
    "!pip install pyperclip"
   ]
  },
  {
   "cell_type": "code",
   "execution_count": 3,
   "id": "38695b0f",
   "metadata": {},
   "outputs": [],
   "source": [
    "import pyautogui\n",
    "import pyperclip\n",
    "import time\n",
    "\n",
    "pyautogui. PAUSE = 0.8\n",
    "\n",
    "#entrar numa nova guia\n",
    "\n",
    "pyautogui.hotkey(\"ctrl\",\"t\")\n",
    "\n",
    "time.sleep(0.5)\n",
    "\n",
    "#escrever o link do youtube\n",
    "\n",
    "pyperclip.copy(\"https://www.youtube.com/\")\n",
    "\n",
    "pyautogui.hotkey(\"ctrl\",\"v\")\n",
    "\n",
    "time.sleep(0.5)\n",
    "\n",
    "#dar go\n",
    "\n",
    "pyautogui.press(\"enter\")\n",
    "\n",
    "#escrever o canal desimpedidos\n",
    "\n",
    "pyautogui.click(x=570, y=100)\n",
    "\n",
    "pyperclip.copy(\"desimpedidos\")\n",
    "\n",
    "pyautogui.hotkey(\"ctrl\",\"v\")\n",
    "\n",
    "#clicar para pesquisar\n",
    "\n",
    "time.sleep(0.8)\n",
    "\n",
    "pyautogui.press(\"enter\")\n",
    "\n",
    "#clicar no video\n",
    "\n",
    "pyautogui.click(x=705, y=210, clicks=2)\n",
    "\n",
    "time.sleep(1.6)\n",
    "\n",
    "#aumentar a tela\n",
    "\n",
    "pyautogui.click(x=851, y=610)"
   ]
  },
  {
   "cell_type": "code",
   "execution_count": null,
   "id": "05a157c7",
   "metadata": {},
   "outputs": [],
   "source": []
  },
  {
   "cell_type": "code",
   "execution_count": 2,
   "id": "de40909f",
   "metadata": {},
   "outputs": [
    {
     "data": {
      "text/plain": [
       "Point(x=705, y=210)"
      ]
     },
     "execution_count": 2,
     "metadata": {},
     "output_type": "execute_result"
    }
   ],
   "source": [
    "time.sleep(5)\n",
    "pyautogui.position()"
   ]
  },
  {
   "cell_type": "code",
   "execution_count": null,
   "id": "65786379",
   "metadata": {},
   "outputs": [],
   "source": []
  }
 ],
 "metadata": {
  "kernelspec": {
   "display_name": "Python 3 (ipykernel)",
   "language": "python",
   "name": "python3"
  },
  "language_info": {
   "codemirror_mode": {
    "name": "ipython",
    "version": 3
   },
   "file_extension": ".py",
   "mimetype": "text/x-python",
   "name": "python",
   "nbconvert_exporter": "python",
   "pygments_lexer": "ipython3",
   "version": "3.9.7"
  }
 },
 "nbformat": 4,
 "nbformat_minor": 5
}
